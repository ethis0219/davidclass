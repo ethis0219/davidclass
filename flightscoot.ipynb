{
 "cells": [
  {
   "cell_type": "markdown",
   "metadata": {},
   "source": [
    "## 爬酷航最新票價資訊\n",
    "- https://www.youtube.com/watch?v=gCd3Fh9w3Do"
   ]
  },
  {
   "cell_type": "code",
   "execution_count": 9,
   "metadata": {
    "collapsed": false
   },
   "outputs": [
    {
     "name": "stdout",
     "output_type": "stream",
     "text": [
      "週三, 六月 1  \r\n",
      "                                            無航班\r\n",
      "                                    \n",
      "週四, 六月 2  \r\n",
      "TWD3,398.00                                    \n",
      "週五, 六月 3  \r\n",
      "TWD3,898.00                                    \n",
      "週六, 六月 4  \r\n",
      "TWD5,698.00                                    \n",
      "週日, 六月 5  \r\n",
      "TWD5,098.00                                    \n",
      "週一, 六月 6  \r\n",
      "TWD4,498.00                                    \n",
      "週二, 六月 7  \r\n",
      "TWD4,498.00                                    \n",
      "週三, 六月 8  \r\n",
      "TWD5,698.00                                    \n",
      "週四, 六月 9  \r\n",
      "                                            無航班\r\n",
      "                                    \n",
      "週五, 六月 10  \r\n",
      "TWD5,098.00                                    \n",
      "週六, 六月 11  \r\n",
      "TWD4,498.00                                    \n",
      "週日, 六月 12  \r\n",
      "TWD3,398.00                                    \n",
      "週六, 六月 4  \r\n",
      "TWD2,762.00                                    \n",
      "週日, 六月 5  \r\n",
      "TWD3,162.00                                    \n",
      "週一, 六月 6  \r\n",
      "TWD2,762.00                                    \n",
      "週二, 六月 7  \r\n",
      "TWD2,762.00                                    \n",
      "週三, 六月 8  \r\n",
      "TWD2,762.00                                    \n",
      "週四, 六月 9  \r\n",
      "TWD2,762.00                                    \n",
      "週五, 六月 10  \r\n",
      "TWD4,762.00                                    \n",
      "週六, 六月 11  \r\n",
      "TWD9,062.00                                    \n",
      "週日, 六月 12  \r\n",
      "TWD9,062.00                                    \n",
      "週一, 六月 13  \r\n",
      "TWD6,562.00                                    \n",
      "週二, 六月 14  \r\n",
      "TWD4,762.00                                    \n",
      "週三, 六月 15  \r\n",
      "TWD3,662.00                                    \n"
     ]
    }
   ],
   "source": [
    "import requests\n",
    "from bs4 import BeautifulSoup as bs\n",
    "payload = {\n",
    "'__EVENTTARGET':'AvailabilitySearchInputSearchView$LinkButtonSubmit',\n",
    "'availabilitySearch.SearchInfo.SalesCode':'',\n",
    "'availabilitySearch.SearchInfo.SearchStations[0].DepartureStationCode':'TPE',\n",
    "'availabilitySearch.SearchInfo.SearchStations[0].ArrivalStationCode':'NRT',\n",
    "'availabilitySearch.SearchInfo.SearchStations[0].DepartureDate':'6/1/2016',\n",
    "'availabilitySearch.SearchInfo.SearchStations[1].DepartureStationCode':'NRT',\n",
    "'availabilitySearch.SearchInfo.SearchStations[1].ArrivalStationCode':'TPE',\n",
    "'availabilitySearch.SearchInfo.SearchStations[1].DepartureDate':'6/10/2016',\n",
    "'availabilitySearch.SearchInfo.Direction':'Return',\n",
    "'fromDate':'1464710400000',\n",
    "'returnDate':'1465488000000',\n",
    "'fromDate_1':'',\n",
    "'fromDate_2':'',\n",
    "'availabilitySearch.SearchInfo.AdultCount':'1',\n",
    "'availabilitySearch.SearchInfo.ChildrenCount':'0',\n",
    "'availabilitySearch.SearchInfo.InfantCount':'0',\n",
    "'availabilitySearch.SearchInfo.PromoCode':'',\n",
    "}\n",
    "rs = requests.session()\n",
    "res = rs.post('http://makeabooking.flyscoot.com/?culture=zh-TW', data = payload)\n",
    "res2 = rs.get('http://makeabooking.flyscoot.com/Flight/Select')\n",
    "soup = bs(res2.text)\n",
    "for li in soup.select('.select-form a'):\n",
    "    if len(li.select('.flightdate')) > 0:\n",
    "        print li.select('.flightdate')[0].text, li.select('.flight_price')[0].text  #[0]->unlist"
   ]
  }
 ],
 "metadata": {
  "kernelspec": {
   "display_name": "Python 2",
   "language": "python",
   "name": "python2"
  },
  "language_info": {
   "codemirror_mode": {
    "name": "ipython",
    "version": 2
   },
   "file_extension": ".py",
   "mimetype": "text/x-python",
   "name": "python",
   "nbconvert_exporter": "python",
   "pygments_lexer": "ipython2",
   "version": "2.7.11"
  }
 },
 "nbformat": 4,
 "nbformat_minor": 0
}
